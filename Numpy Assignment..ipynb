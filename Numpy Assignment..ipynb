{
 "cells": [
  {
   "cell_type": "markdown",
   "metadata": {},
   "source": [
    "Q1) Write a function so that the columns of the output matrix are powers of the input\n",
    "vector.\n",
    "The order of the powers is determined by the increasing boolean argument. Specifically, when\n",
    "increasing is False, the i-th output column is the input vector raised element-wise to the power\n",
    "of N - i - 1.\n",
    "HINT: Such a matrix with a geometric progression in each row is named for AlexandreTheophile Vandermonde"
   ]
  },
  {
   "cell_type": "code",
   "execution_count": 12,
   "metadata": {},
   "outputs": [
    {
     "name": "stdout",
     "output_type": "stream",
     "text": [
      "[[  1   1   1   1   1]\n",
      " [ 16   8   4   2   1]\n",
      " [ 81  27   9   3   1]\n",
      " [256  64  16   4   1]\n",
      " [625 125  25   5   1]]\n"
     ]
    }
   ],
   "source": [
    "## Creating a matrix with the output column based on input vector \n",
    "\n",
    "import numpy as np\n",
    "x=np.array([1,2,3,4,5])\n",
    "N=5\n",
    "matrix=np.column_stack([x**(N-i-1) for i in range(N)])\n",
    "print(matrix)"
   ]
  },
  {
   "cell_type": "code",
   "execution_count": 15,
   "metadata": {},
   "outputs": [
    {
     "data": {
      "text/plain": [
       "array([[  1,   1,   1,   1,   1],\n",
       "       [ 16,   8,   4,   2,   1],\n",
       "       [ 81,  27,   9,   3,   1],\n",
       "       [256,  64,  16,   4,   1],\n",
       "       [625, 125,  25,   5,   1]])"
      ]
     },
     "execution_count": 15,
     "metadata": {},
     "output_type": "execute_result"
    }
   ],
   "source": [
    "## Similar matrix using vander in numpy\n",
    "\n",
    "x=np.array([1,2,3,4,5])\n",
    "N=5\n",
    "matrix1=np.vander(x, N, increasing=False)\n",
    "matrix1"
   ]
  },
  {
   "cell_type": "code",
   "execution_count": 16,
   "metadata": {},
   "outputs": [
    {
     "data": {
      "text/plain": [
       "287.9999999999977"
      ]
     },
     "execution_count": 16,
     "metadata": {},
     "output_type": "execute_result"
    }
   ],
   "source": [
    "## The determitant of both the matrix are same \n",
    "\n",
    "np.linalg.det(matrix)"
   ]
  },
  {
   "cell_type": "code",
   "execution_count": 17,
   "metadata": {},
   "outputs": [
    {
     "data": {
      "text/plain": [
       "287.9999999999977"
      ]
     },
     "execution_count": 17,
     "metadata": {},
     "output_type": "execute_result"
    }
   ],
   "source": [
    "np.linalg.det(matrix1)"
   ]
  },
  {
   "cell_type": "markdown",
   "metadata": {},
   "source": [
    "Q2) Given a sequence of n values x1, x2, ..., xn and a window size k>0, the k-th moving average of  the given sequence is defined as follows:\n",
    "The moving average sequence has n-k+1 elements as shown below.\n",
    "The moving averages with k=4 of a ten-value sequence (n=10) is shown below\n",
    "i 1 2 3 4 5 6 7 8 9 10\n",
    "===== == == == == == == == == == ==\n",
    "Input 10 20 30 40 50 60 70 80 90 100\n",
    "y1 25 = (10+20+30+40)/4\n",
    "y2 35 = (20+30+40+50)/4\n",
    "y3 45 = (30+40+50+60)/4\n",
    "y4 55 = (40+50+60+70)/4\n",
    "y5 65 = (50+60+70+80)/4\n",
    "y6 75 = (60+70+80+90)/4\n",
    "y7 85 = (70+80+90+100)/4\n",
    "Thus, the moving average sequence has n-k+1=10-4+1=7 values\n",
    "\n",
    "Question: Write a function to find moving average in an array over a window:\n",
    "     Test it over [3, 5, 7, 2, 8, 10, 11, 65, 72, 81, 99, 100, 150] and window of 3."
   ]
  },
  {
   "cell_type": "code",
   "execution_count": 20,
   "metadata": {},
   "outputs": [
    {
     "data": {
      "text/plain": [
       "array([  5.  ,   5.67,   8.33,  11.67,  15.33,  37.  ,  61.  ,  88.  ,\n",
       "       121.  , 154.33, 204.33])"
      ]
     },
     "execution_count": 20,
     "metadata": {},
     "output_type": "execute_result"
    }
   ],
   "source": [
    "## Wirting a function \n",
    "\n",
    "def moving_avg(a, n=3):\n",
    "    asum=np.cumsum(a, dtype=float) ## using np.cumsum to get cummulative of sum of numbers\n",
    "    a[n:]=asum[n:]-asum[:-n]\n",
    "    return asum[n-1:]/n\n",
    "\n",
    "a=[3, 5, 7, 2, 8, 10, 11, 65, 72, 81, 99, 100, 150]\n",
    "a1=np.array(a)\n",
    "np.array(moving_avg(a1,n=3).round(2))"
   ]
  },
  {
   "cell_type": "code",
   "execution_count": null,
   "metadata": {},
   "outputs": [],
   "source": []
  }
 ],
 "metadata": {
  "kernelspec": {
   "display_name": "Python 3",
   "language": "python",
   "name": "python3"
  },
  "language_info": {
   "codemirror_mode": {
    "name": "ipython",
    "version": 3
   },
   "file_extension": ".py",
   "mimetype": "text/x-python",
   "name": "python",
   "nbconvert_exporter": "python",
   "pygments_lexer": "ipython3",
   "version": "3.8.3"
  }
 },
 "nbformat": 4,
 "nbformat_minor": 4
}
